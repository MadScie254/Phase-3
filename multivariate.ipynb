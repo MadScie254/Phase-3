#Nevermnd
import pandas as pd
import matplotlib.pyplot as plt
from mpl_toolkits.mplot3d import Axes3D

# Load the merged and engineered dataset
merged_data = pd.read_csv("Merged_and_Engineered_Data.csv")

# Create a 3D scatter plot
fig = plt.figure(figsize=(10, 8))
ax = fig.add_subplot(111, projection='3d')

# Variables for the 3D plot
x = merged_data['12-Month Inflation']
y = merged_data['Annual GDP growth (%)']
z = merged_data['Exchange_Rate_Variability']

# Create the scatter plot
ax.scatter(x, y, z, c=z, cmap='viridis', s=50)

# Set labels for each axis
ax.set_xlabel('12-Month Inflation')
ax.set_ylabel('Annual GDP growth (%)')
ax.set_zlabel('Exchange Rate Variability')

# Set title
ax.set_title('3D Scatter Plot: Inflation, GDP Growth, and Exchange Rate Variability')

# Show the plot
plt.show()
